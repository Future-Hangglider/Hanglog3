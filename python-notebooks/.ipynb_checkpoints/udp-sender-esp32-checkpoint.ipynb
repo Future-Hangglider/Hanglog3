{
 "cells": [
  {
   "cell_type": "code",
   "execution_count": 10,
   "metadata": {},
   "outputs": [
    {
     "name": "stdout",
     "output_type": "stream",
     "text": [
      "\u001b[34mConnecting to --port=/dev/ttyUSB0 --baud=115200 \u001b[0m\n",
      "\u001b[34mReady.\n",
      "\u001b[0m"
     ]
    }
   ],
   "source": [
    "%serialconnect --port=/dev/ttyUSB0"
   ]
  },
  {
   "cell_type": "code",
   "execution_count": 5,
   "metadata": {},
   "outputs": [
    {
     "name": "stdout",
     "output_type": "stream",
     "text": [
      "b4e62d8c1fb1\n",
      "Device has ipnumber 10.0.30.226\n",
      "> auth (b0)\n",
      "> init (2)\n",
      "...\u001b[34m\n",
      "\n",
      "*** Sending Ctrl-C\n",
      "\n",
      "\u001b[0m"
     ]
    },
    {
     "name": "stderr",
     "output_type": "stream",
     "text": [
      "Traceback (most recent call last):\n",
      "  File \"<stdin>\", line 39, in <module>\n",
      "  File \"<stdin>\", line 37, in <module>\n",
      "KeyboardInterrupt: \n"
     ]
    }
   ],
   "source": [
    "import network\n",
    "\n",
    "from OLED_driver import i2c, fbuff, oledshow, doublepixels, fatntext, oledshowfattext\n",
    "\n",
    "oledshowfattext([\"Connect\", \"wifi\", \"hangspot\"])\n",
    "\n",
    "si = network.WLAN(network.STA_IF)\n",
    "macaddress = \"\".join(\"{:02x}\".format(x)  for x in si.config(\"mac\"))\n",
    "si.active(True)\n",
    "print(macaddress)\n",
    "oledshowfattext([macaddress[:8], macaddress[8:]])\n",
    "\n",
    "si.connect(\"DoESLiverpool\", \"decafbad00\")\n",
    "while not si.isconnected():\n",
    "    pass\n",
    "ipnumber = si.ifconfig()[0] \n",
    "print(\"Device has ipnumber\", ipnumber)\n",
    "oledshowfattext([ipnumber[:8], ipnumber[8:]])\n",
    "\n",
    "import socket\n",
    "s = socket.socket(socket.AF_INET, socket.SOCK_DGRAM)\n",
    "s.settimeout(3)\n",
    "port = 9002\n",
    "\n",
    "import time\n",
    "n = 0\n",
    "t0 = 0\n",
    "gx0 = 0\n",
    "gy0 = 0\n",
    "while True:\n",
    "    if (n%10) == 0:\n",
    "        s.sendto(b\"hithere99\", (\"192.168.0.10\", port))\n",
    "    n += 1\n",
    "    try:\n",
    "        j, addr = s.recvfrom(10)\n",
    "    except OSError:\n",
    "        continue\n",
    "    if j[0] == ord('E') and len(j) == 10:\n",
    "        gx, gy = int(j[1:5]), int(j[6:10])\n",
    "        dgx = gx-gx0\n",
    "        gx0 = gx\n",
    "    else:\n",
    "        dgx = -1\n",
    "        fbuff.text(j, 0, 0, 1)\n",
    "        ne = j.find(b\"E\")\n",
    "        if ne >= 0:\n",
    "            s.recvfrom(10 - (len(j) - ne))\n",
    "        continue\n",
    "        \n",
    "    t1 = time.ticks_ms()\n",
    "    if (t1 - t0 < 20):\n",
    "        continue\n",
    "    dt = t1 - t0\n",
    "    t0 = t1\n",
    "    fbuff.fill(0)\n",
    "    if gx != 999:\n",
    "        rx, ry = int(gx/640*128), int((1-gy/480)*64)\n",
    "        fbuff.fill_rect(rx-8, ry-8, 16, 16, 1)\n",
    "        fbuff.text(\"dt %d\"%dt, 0, 0, 1)\n",
    "    else:\n",
    "        fatntext(str(gy), 0, 0)\n",
    "    oledshow()\n"
   ]
  },
  {
   "cell_type": "code",
   "execution_count": null,
   "metadata": {
    "collapsed": true
   },
   "outputs": [],
   "source": []
  }
 ],
 "metadata": {
  "kernelspec": {
   "display_name": "MicroPython - USB",
   "language": "micropython",
   "name": "micropython"
  },
  "language_info": {
   "codemirror_mode": "python",
   "file_extension": ".py",
   "mimetype": "text/python",
   "name": "micropython"
  }
 },
 "nbformat": 4,
 "nbformat_minor": 2
}
