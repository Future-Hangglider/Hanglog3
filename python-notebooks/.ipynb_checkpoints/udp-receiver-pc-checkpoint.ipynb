{
 "cells": [
  {
   "cell_type": "code",
   "execution_count": 12,
   "metadata": {},
   "outputs": [],
   "source": [
    "import socket\n",
    "s = socket.socket(socket.AF_INET, socket.SOCK_DGRAM)\n",
    "s.settimeout(3)\n",
    "ipnum = \"192.168.4.2\"\n",
    "port = 9019\n",
    "s.bind((ipnum, port))   \n"
   ]
  },
  {
   "cell_type": "code",
   "execution_count": 32,
   "metadata": {},
   "outputs": [
    {
     "data": {
      "text/plain": [
       "12"
      ]
     },
     "execution_count": 32,
     "metadata": {},
     "output_type": "execute_result"
    }
   ],
   "source": [
    "s.sendto(b\"A UDP Packet\", (\"192.168.4.1\", port))\n"
   ]
  },
  {
   "cell_type": "code",
   "execution_count": 74,
   "metadata": {},
   "outputs": [
    {
     "name": "stdout",
     "output_type": "stream",
     "text": [
      "0.001050710678100586\n"
     ]
    }
   ],
   "source": [
    "fname = \"temp.log\"\n",
    "t0 = time.time()\n",
    "fout = open(fname, \"wb\")\n",
    "fout.write(b\"header\\n\\n\")\n",
    "for i in range(100):\n",
    "    try:\n",
    "        j, addr = s.recvfrom(200)\n",
    "        fout.write(j)\n",
    "    except OSError:\n",
    "        continue\n",
    "print(time.time() - t0)\n",
    "fout.close()"
   ]
  },
  {
   "cell_type": "code",
   "execution_count": 75,
   "metadata": {},
   "outputs": [
    {
     "name": "stdout",
     "output_type": "stream",
     "text": [
      "badline \n",
      "\n",
      "badline \n",
      "\n",
      "badline \n",
      "\n",
      "badline \n",
      "\n",
      "badline \n",
      "\n",
      "badline \n",
      "\n",
      "badline \n",
      "\n",
      "badline \n",
      "\n",
      "badline \n",
      "\n",
      "badline \n",
      "\n",
      "badline \n",
      "\n",
      "badline \n",
      "\n",
      "badline \n",
      "\n",
      "badline \n",
      "\n",
      "badline \n",
      "\n",
      "badline \n",
      "\n",
      "badline \n",
      "\n",
      "badline \n",
      "\n",
      "badline \n",
      "\n",
      "badline \n",
      "\n",
      "badline \n",
      "\n",
      "badline \n",
      "\n",
      "badline \n",
      "\n",
      "badline \n",
      "\n",
      "badline \n",
      "\n",
      "badline \n",
      "\n",
      "badline \n",
      "\n",
      "badline \n",
      "\n",
      "badline \n",
      "\n",
      "badline \n",
      "\n",
      "badline \n",
      "\n",
      "badline \n",
      "\n",
      "badline \n",
      "\n",
      "badline \n",
      "\n",
      "badline \n",
      "\n",
      "badline \n",
      "\n",
      "badline \n",
      "\n",
      "badline \n",
      "\n",
      "badline \n",
      "\n",
      "badline \n",
      "\n",
      "badline \n",
      "\n",
      "badline \n",
      "\n",
      "badline \n",
      "\n",
      "badline \n",
      "\n",
      "badline \n",
      "\n",
      "badline \n",
      "\n",
      "badline \n",
      "\n",
      "badline \n",
      "\n",
      "badline \n",
      "\n",
      "badline \n",
      "\n",
      "badline \n",
      "\n",
      "badline \n",
      "\n",
      "badline \n",
      "\n",
      "badline \n",
      "\n",
      "badline \n",
      "\n",
      "badline \n",
      "\n",
      "badline \n",
      "\n",
      "badline \n",
      "\n",
      "badline \n",
      "\n",
      "badline \n",
      "\n",
      "badline \n",
      "\n",
      "badline \n",
      "\n",
      "badline \n",
      "\n",
      "badline \n",
      "\n",
      "badline \n",
      "\n",
      "badline \n",
      "\n",
      "badline \n",
      "\n",
      "badline \n",
      "\n",
      "badline \n",
      "\n",
      "badline \n",
      "\n",
      "badline \n",
      "\n",
      "badline \n",
      "\n",
      "badline \n",
      "\n",
      "badline \n",
      "\n",
      "badline \n",
      "\n",
      "badline \n",
      "\n",
      "badline \n",
      "\n",
      "badline \n",
      "\n",
      "badline \n",
      "\n",
      "badline \n",
      "\n",
      "badline \n",
      "\n",
      "badline \n",
      "\n",
      "badline \n",
      "\n",
      "badline \n",
      "\n",
      "badline \n",
      "\n",
      "badline \n",
      "\n",
      "badline \n",
      "\n",
      "badline \n",
      "\n",
      "badline \n",
      "\n",
      "badline \n",
      "\n",
      "badline \n",
      "\n",
      "badline \n",
      "\n",
      "badline \n",
      "\n",
      "badline \n",
      "\n",
      "badline \n",
      "\n",
      "badline \n",
      "\n",
      "badline \n",
      "\n",
      "badline \n",
      "\n",
      "badline \n",
      "\n",
      "badline \n",
      "\n",
      "{'D': 0, 'F': 38, 'L': 0, 'Q': 0, 'R': 0, 'V': 0, 'W': 0, 'Y': 0, 'Z': 46, 'U': 0, 'C': 0, 'P': 0, 'H': 0, 'I': 0, 'S': 0, 'G': 16, 'N': 0, 'M': 0, 'O': 0, 'B': 0, 'X': 0, '*': 0}\n"
     ]
    }
   ],
   "source": [
    "from matplotlib import pyplot as plt\n",
    "from flightjy import loaders, utils\n",
    "import pandas, numpy, matplotlib\n",
    "\n",
    "fd = loaders.FlyDat(fname)\n",
    "print(fd.reccounts)"
   ]
  },
  {
   "cell_type": "code",
   "execution_count": 73,
   "metadata": {},
   "outputs": [
    {
     "name": "stdout",
     "output_type": "stream",
     "text": [
      "BAD VALUES 38 [(0, 'Ft0017908D\\n'), (0, 'Ft00179099\\n'), (0, 'Ft001790AA\\n')]\n",
      "Made for F 38 last index 0\n"
     ]
    },
    {
     "data": {
      "text/html": [
       "<div>\n",
       "<style>\n",
       "    .dataframe thead tr:only-child th {\n",
       "        text-align: right;\n",
       "    }\n",
       "\n",
       "    .dataframe thead th {\n",
       "        text-align: left;\n",
       "    }\n",
       "\n",
       "    .dataframe tbody tr th {\n",
       "        vertical-align: top;\n",
       "    }\n",
       "</style>\n",
       "<table border=\"1\" class=\"dataframe\">\n",
       "  <thead>\n",
       "    <tr style=\"text-align: right;\">\n",
       "      <th></th>\n",
       "      <th>Pr</th>\n",
       "    </tr>\n",
       "  </thead>\n",
       "  <tbody>\n",
       "  </tbody>\n",
       "</table>\n",
       "</div>"
      ],
      "text/plain": [
       "Empty DataFrame\n",
       "Columns: [Pr]\n",
       "Index: []"
      ]
     },
     "execution_count": 73,
     "metadata": {},
     "output_type": "execute_result"
    }
   ],
   "source": [
    "fd.LoadC(\"F\")\n",
    "#plt.plot(fd.pF)\n",
    "fd.pF"
   ]
  },
  {
   "cell_type": "code",
   "execution_count": null,
   "metadata": {
    "collapsed": true
   },
   "outputs": [],
   "source": []
  },
  {
   "cell_type": "code",
   "execution_count": 5,
   "metadata": {},
   "outputs": [
    {
     "name": "stdout",
     "output_type": "stream",
     "text": [
      "(b'A UDP Packet', ('192.168.4.2', 9099))\n"
     ]
    }
   ],
   "source": [
    "import socket\n",
    "\n",
    "s = socket.socket(socket.AF_INET, socket.SOCK_DGRAM)\n",
    "s.settimeout(3)\n",
    "port = 9099\n",
    "ipnum = \"192.168.4.2\"\n",
    "s.bind((ipnum, port))   \n",
    "\n",
    "s.sendto(b\"A UDP Packet\", (ipnum, port))\n",
    "print(s.recvfrom(100))\n"
   ]
  },
  {
   "cell_type": "code",
   "execution_count": 9,
   "metadata": {},
   "outputs": [
    {
     "name": "stdout",
     "output_type": "stream",
     "text": [
      "(b'An ESP UDP Packet', ('192.168.4.1', 9099))\n"
     ]
    }
   ],
   "source": [
    "s.settimeout(30)\n",
    "s.sendto(b\"A PC UDP Packet\", (\"192.168.4.1\", port)); print(s.recvfrom(100))\n"
   ]
  },
  {
   "cell_type": "code",
   "execution_count": 7,
   "metadata": {},
   "outputs": [
    {
     "name": "stdout",
     "output_type": "stream",
     "text": [
      "(b'An ESP UDP Packet', ('192.168.4.1', 9099))\n"
     ]
    }
   ],
   "source": [
    "print(s.recvfrom(100))\n"
   ]
  },
  {
   "cell_type": "code",
   "execution_count": 9,
   "metadata": {},
   "outputs": [
    {
     "name": "stdout",
     "output_type": "stream",
     "text": [
      "b'thingthingBeet' ('192.168.4.3', 9019)\n"
     ]
    }
   ],
   "source": [
    "j, addr = s.recvfrom(100)\n",
    "print(j, addr)"
   ]
  },
  {
   "cell_type": "code",
   "execution_count": 8,
   "metadata": {},
   "outputs": [
    {
     "data": {
      "text/plain": [
       "14"
      ]
     },
     "execution_count": 8,
     "metadata": {},
     "output_type": "execute_result"
    }
   ],
   "source": [
    "s.sendto(b\"thingthingBeet\", (\"192.168.4.3\", 9019))"
   ]
  },
  {
   "cell_type": "code",
   "execution_count": 13,
   "metadata": {},
   "outputs": [
    {
     "name": "stdout",
     "output_type": "stream",
     "text": [
      "0\n",
      "b'hithere99' ('10.0.29.2', 9009)\n",
      "fail\n",
      "fail\n",
      "fail\n",
      "fail\n",
      "fail\n",
      "fail\n",
      "fail\n",
      "fail\n",
      "fail\n",
      "10\n"
     ]
    },
    {
     "ename": "OSError",
     "evalue": "[Errno 22] Invalid argument",
     "output_type": "error",
     "traceback": [
      "\u001b[0;31m---------------------------------------------------------------------------\u001b[0m",
      "\u001b[0;31mOSError\u001b[0m                                   Traceback (most recent call last)",
      "\u001b[0;32m<ipython-input-13-6e64b22a4b00>\u001b[0m in \u001b[0;36m<module>\u001b[0;34m()\u001b[0m\n\u001b[1;32m     13\u001b[0m     \u001b[0;32mif\u001b[0m \u001b[0;34m(\u001b[0m\u001b[0mn\u001b[0m\u001b[0;34m%\u001b[0m\u001b[0;36m10\u001b[0m\u001b[0;34m)\u001b[0m \u001b[0;34m==\u001b[0m \u001b[0;36m0\u001b[0m\u001b[0;34m:\u001b[0m\u001b[0;34m\u001b[0m\u001b[0m\n\u001b[1;32m     14\u001b[0m         \u001b[0mprint\u001b[0m\u001b[0;34m(\u001b[0m\u001b[0mn\u001b[0m\u001b[0;34m)\u001b[0m\u001b[0;34m\u001b[0m\u001b[0m\n\u001b[0;32m---> 15\u001b[0;31m         \u001b[0ms\u001b[0m\u001b[0;34m.\u001b[0m\u001b[0msendto\u001b[0m\u001b[0;34m(\u001b[0m\u001b[0;34mb\"hithere99\"\u001b[0m\u001b[0;34m,\u001b[0m \u001b[0;34m(\u001b[0m\u001b[0mipnum\u001b[0m\u001b[0;34m,\u001b[0m \u001b[0mport\u001b[0m\u001b[0;34m)\u001b[0m\u001b[0;34m)\u001b[0m\u001b[0;34m\u001b[0m\u001b[0m\n\u001b[0m\u001b[1;32m     16\u001b[0m     \u001b[0mn\u001b[0m \u001b[0;34m+=\u001b[0m \u001b[0;36m1\u001b[0m\u001b[0;34m\u001b[0m\u001b[0m\n\u001b[1;32m     17\u001b[0m     \u001b[0;32mtry\u001b[0m\u001b[0;34m:\u001b[0m\u001b[0;34m\u001b[0m\u001b[0m\n",
      "\u001b[0;31mOSError\u001b[0m: [Errno 22] Invalid argument"
     ]
    }
   ],
   "source": [
    "import socket\n",
    "s = socket.socket(socket.AF_INET, socket.SOCK_DGRAM)\n",
    "s.settimeout(3)\n",
    "port = 9019\n",
    "\n",
    "import time\n",
    "n = 0\n",
    "ipnum = \"10.0.29.2\"\n",
    "#ipnum = \"127.0.0.1\"\n",
    "s.bind((ipnum, port))   # this is the Rpi itself\n",
    "\n",
    "while True:\n",
    "    if (n%10) == 0:\n",
    "        print(n)\n",
    "        s.sendto(b\"hithere99\", (ipnum, port))\n",
    "    n += 1\n",
    "    try:\n",
    "        j, addr = s.recvfrom(10)\n",
    "    except OSError:\n",
    "        print(\"fail\")\n",
    "        continue\n",
    "    print(j, addr)\n",
    "\n",
    "        "
   ]
  },
  {
   "cell_type": "code",
   "execution_count": 4,
   "metadata": {},
   "outputs": [
    {
     "data": {
      "text/plain": [
       "75"
      ]
     },
     "execution_count": 4,
     "metadata": {},
     "output_type": "execute_result"
    }
   ],
   "source": [
    "n"
   ]
  },
  {
   "cell_type": "code",
   "execution_count": null,
   "metadata": {
    "collapsed": true
   },
   "outputs": [],
   "source": []
  }
 ],
 "metadata": {
  "kernelspec": {
   "display_name": "Python 3",
   "language": "python",
   "name": "python3"
  },
  "language_info": {
   "codemirror_mode": {
    "name": "ipython",
    "version": 3
   },
   "file_extension": ".py",
   "mimetype": "text/x-python",
   "name": "python",
   "nbconvert_exporter": "python",
   "pygments_lexer": "ipython3",
   "version": "3.6.5"
  }
 },
 "nbformat": 4,
 "nbformat_minor": 2
}
